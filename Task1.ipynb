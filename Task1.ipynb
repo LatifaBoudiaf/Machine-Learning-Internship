{
 "cells": [
  {
   "cell_type": "markdown",
   "id": "f5989dc3-835a-435b-9b4b-d8831e2f052b",
   "metadata": {},
   "source": [
    "# Task 1: Student Score Prediction\n",
    "## Description:\n",
    "- Dataset (Recommended): Student Performance Factors (Kaggle)\n",
    "- Build a model to predict students' exam scores based on their study hours\n",
    "- Perform data cleaning and basic visualization to understand the dataset\n",
    "- Split the dataset into training and testing sets\n",
    "- Train a linear regression model to estimate final scores\n",
    "- Visualize predictions and evaluate model performance\n",
    "## Bonus:\n",
    "- Try polynomial regression and compare performance\n",
    "- Try experimenting with different feature combinations (e.g., removing or adding features like sleep, participation, etc.)"
   ]
  },
  {
   "cell_type": "markdown",
   "id": "2fccb6d6-295a-47ad-8b2f-eed9d5aed658",
   "metadata": {},
   "source": [
    "# Installing libraries & Getting the dataset"
   ]
  },
  {
   "cell_type": "code",
   "execution_count": null,
   "id": "a6dd9e2c-5b92-4674-b496-40b648a95f4b",
   "metadata": {
    "scrolled": true
   },
   "outputs": [],
   "source": [
    "!pip install kaggle"
   ]
  },
  {
   "cell_type": "code",
   "execution_count": null,
   "id": "1a04a7d6-51c1-48ed-a8a3-70e9064a648d",
   "metadata": {},
   "outputs": [],
   "source": [
    "!mkdir -p ~/.kaggle\n",
    "!cp kaggle.json ~/.kaggle/\n",
    "!chmod 600 ~/.kaggle/kaggle.json"
   ]
  },
  {
   "cell_type": "code",
   "execution_count": 11,
   "id": "cbb893e6-4755-4492-922b-90f01efe36cc",
   "metadata": {},
   "outputs": [
    {
     "name": "stdout",
     "output_type": "stream",
     "text": [
      "Dataset URL: https://www.kaggle.com/datasets/lainguyn123/student-performance-factors\n",
      "License(s): CC0-1.0\n",
      "Downloading student-performance-factors.zip to /home/latifa-boudiaf\n",
      "  0%|                                               | 0.00/93.9k [00:00<?, ?B/s]\n",
      "100%|███████████████████████████████████████| 93.9k/93.9k [00:00<00:00, 143MB/s]\n"
     ]
    }
   ],
   "source": [
    "!kaggle datasets download -d lainguyn123/student-performance-factors"
   ]
  },
  {
   "cell_type": "code",
   "execution_count": 13,
   "id": "59916339-9799-47f3-acde-904dda800ecc",
   "metadata": {},
   "outputs": [
    {
     "name": "stdout",
     "output_type": "stream",
     "text": [
      "Archive:  student-performance-factors.zip\n",
      "  inflating: StudentPerformanceFactors.csv  \n"
     ]
    }
   ],
   "source": [
    "!unzip student-performance-factors.zip"
   ]
  },
  {
   "cell_type": "markdown",
   "id": "9841ebb2-4e69-4b56-ac1d-475a707efd1f",
   "metadata": {},
   "source": [
    "# Simple Linear Regression"
   ]
  },
  {
   "cell_type": "code",
   "execution_count": 14,
   "id": "711205d0-7c90-498f-877e-873aee25d0a3",
   "metadata": {},
   "outputs": [
    {
     "name": "stdout",
     "output_type": "stream",
     "text": [
      "Null values\n"
     ]
    },
    {
     "data": {
      "text/plain": [
       "Hours_Studied                  0\n",
       "Attendance                     0\n",
       "Parental_Involvement           0\n",
       "Access_to_Resources            0\n",
       "Extracurricular_Activities     0\n",
       "Sleep_Hours                    0\n",
       "Previous_Scores                0\n",
       "Motivation_Level               0\n",
       "Internet_Access                0\n",
       "Tutoring_Sessions              0\n",
       "Family_Income                  0\n",
       "Teacher_Quality               78\n",
       "School_Type                    0\n",
       "Peer_Influence                 0\n",
       "Physical_Activity              0\n",
       "Learning_Disabilities          0\n",
       "Parental_Education_Level      90\n",
       "Distance_from_Home            67\n",
       "Gender                         0\n",
       "Exam_Score                     0\n",
       "dtype: int64"
      ]
     },
     "execution_count": 14,
     "metadata": {},
     "output_type": "execute_result"
    }
   ],
   "source": [
    "import pandas as pd\n",
    "from sklearn.linear_model import LinearRegression\n",
    "from matplotlib import pyplot as plt\n",
    "\n",
    "#Loading the data\n",
    "students_data = pd.read_csv('StudentPerformanceFactors.csv', delimiter=',', header='infer')\n",
    "\n",
    "#Performing data inspection\n",
    "print('Null values')\n",
    "students_data.isnull().sum()"
   ]
  },
  {
   "cell_type": "code",
   "execution_count": 15,
   "id": "2b2fd628-83c3-427e-9744-c32e6dbfa397",
   "metadata": {},
   "outputs": [
    {
     "name": "stdout",
     "output_type": "stream",
     "text": [
      "Duplicates\n"
     ]
    },
    {
     "data": {
      "text/plain": [
       "np.int64(0)"
      ]
     },
     "execution_count": 15,
     "metadata": {},
     "output_type": "execute_result"
    }
   ],
   "source": [
    "#Checking for duplicates\n",
    "print('Duplicates')\n",
    "students_data.duplicated().sum()"
   ]
  },
  {
   "cell_type": "code",
   "execution_count": 16,
   "id": "fc88abcf-dfa9-47b8-9d1a-193962fefbc4",
   "metadata": {},
   "outputs": [
    {
     "name": "stdout",
     "output_type": "stream",
     "text": [
      "First rows\n"
     ]
    },
    {
     "data": {
      "text/html": [
       "<div>\n",
       "<style scoped>\n",
       "    .dataframe tbody tr th:only-of-type {\n",
       "        vertical-align: middle;\n",
       "    }\n",
       "\n",
       "    .dataframe tbody tr th {\n",
       "        vertical-align: top;\n",
       "    }\n",
       "\n",
       "    .dataframe thead th {\n",
       "        text-align: right;\n",
       "    }\n",
       "</style>\n",
       "<table border=\"1\" class=\"dataframe\">\n",
       "  <thead>\n",
       "    <tr style=\"text-align: right;\">\n",
       "      <th></th>\n",
       "      <th>Hours_Studied</th>\n",
       "      <th>Attendance</th>\n",
       "      <th>Parental_Involvement</th>\n",
       "      <th>Access_to_Resources</th>\n",
       "      <th>Extracurricular_Activities</th>\n",
       "      <th>Sleep_Hours</th>\n",
       "      <th>Previous_Scores</th>\n",
       "      <th>Motivation_Level</th>\n",
       "      <th>Internet_Access</th>\n",
       "      <th>Tutoring_Sessions</th>\n",
       "      <th>Family_Income</th>\n",
       "      <th>Teacher_Quality</th>\n",
       "      <th>School_Type</th>\n",
       "      <th>Peer_Influence</th>\n",
       "      <th>Physical_Activity</th>\n",
       "      <th>Learning_Disabilities</th>\n",
       "      <th>Parental_Education_Level</th>\n",
       "      <th>Distance_from_Home</th>\n",
       "      <th>Gender</th>\n",
       "      <th>Exam_Score</th>\n",
       "    </tr>\n",
       "  </thead>\n",
       "  <tbody>\n",
       "    <tr>\n",
       "      <th>0</th>\n",
       "      <td>23</td>\n",
       "      <td>84</td>\n",
       "      <td>Low</td>\n",
       "      <td>High</td>\n",
       "      <td>No</td>\n",
       "      <td>7</td>\n",
       "      <td>73</td>\n",
       "      <td>Low</td>\n",
       "      <td>Yes</td>\n",
       "      <td>0</td>\n",
       "      <td>Low</td>\n",
       "      <td>Medium</td>\n",
       "      <td>Public</td>\n",
       "      <td>Positive</td>\n",
       "      <td>3</td>\n",
       "      <td>No</td>\n",
       "      <td>High School</td>\n",
       "      <td>Near</td>\n",
       "      <td>Male</td>\n",
       "      <td>67</td>\n",
       "    </tr>\n",
       "    <tr>\n",
       "      <th>1</th>\n",
       "      <td>19</td>\n",
       "      <td>64</td>\n",
       "      <td>Low</td>\n",
       "      <td>Medium</td>\n",
       "      <td>No</td>\n",
       "      <td>8</td>\n",
       "      <td>59</td>\n",
       "      <td>Low</td>\n",
       "      <td>Yes</td>\n",
       "      <td>2</td>\n",
       "      <td>Medium</td>\n",
       "      <td>Medium</td>\n",
       "      <td>Public</td>\n",
       "      <td>Negative</td>\n",
       "      <td>4</td>\n",
       "      <td>No</td>\n",
       "      <td>College</td>\n",
       "      <td>Moderate</td>\n",
       "      <td>Female</td>\n",
       "      <td>61</td>\n",
       "    </tr>\n",
       "    <tr>\n",
       "      <th>2</th>\n",
       "      <td>24</td>\n",
       "      <td>98</td>\n",
       "      <td>Medium</td>\n",
       "      <td>Medium</td>\n",
       "      <td>Yes</td>\n",
       "      <td>7</td>\n",
       "      <td>91</td>\n",
       "      <td>Medium</td>\n",
       "      <td>Yes</td>\n",
       "      <td>2</td>\n",
       "      <td>Medium</td>\n",
       "      <td>Medium</td>\n",
       "      <td>Public</td>\n",
       "      <td>Neutral</td>\n",
       "      <td>4</td>\n",
       "      <td>No</td>\n",
       "      <td>Postgraduate</td>\n",
       "      <td>Near</td>\n",
       "      <td>Male</td>\n",
       "      <td>74</td>\n",
       "    </tr>\n",
       "    <tr>\n",
       "      <th>3</th>\n",
       "      <td>29</td>\n",
       "      <td>89</td>\n",
       "      <td>Low</td>\n",
       "      <td>Medium</td>\n",
       "      <td>Yes</td>\n",
       "      <td>8</td>\n",
       "      <td>98</td>\n",
       "      <td>Medium</td>\n",
       "      <td>Yes</td>\n",
       "      <td>1</td>\n",
       "      <td>Medium</td>\n",
       "      <td>Medium</td>\n",
       "      <td>Public</td>\n",
       "      <td>Negative</td>\n",
       "      <td>4</td>\n",
       "      <td>No</td>\n",
       "      <td>High School</td>\n",
       "      <td>Moderate</td>\n",
       "      <td>Male</td>\n",
       "      <td>71</td>\n",
       "    </tr>\n",
       "    <tr>\n",
       "      <th>4</th>\n",
       "      <td>19</td>\n",
       "      <td>92</td>\n",
       "      <td>Medium</td>\n",
       "      <td>Medium</td>\n",
       "      <td>Yes</td>\n",
       "      <td>6</td>\n",
       "      <td>65</td>\n",
       "      <td>Medium</td>\n",
       "      <td>Yes</td>\n",
       "      <td>3</td>\n",
       "      <td>Medium</td>\n",
       "      <td>High</td>\n",
       "      <td>Public</td>\n",
       "      <td>Neutral</td>\n",
       "      <td>4</td>\n",
       "      <td>No</td>\n",
       "      <td>College</td>\n",
       "      <td>Near</td>\n",
       "      <td>Female</td>\n",
       "      <td>70</td>\n",
       "    </tr>\n",
       "  </tbody>\n",
       "</table>\n",
       "</div>"
      ],
      "text/plain": [
       "   Hours_Studied  Attendance Parental_Involvement Access_to_Resources  \\\n",
       "0             23          84                  Low                High   \n",
       "1             19          64                  Low              Medium   \n",
       "2             24          98               Medium              Medium   \n",
       "3             29          89                  Low              Medium   \n",
       "4             19          92               Medium              Medium   \n",
       "\n",
       "  Extracurricular_Activities  Sleep_Hours  Previous_Scores Motivation_Level  \\\n",
       "0                         No            7               73              Low   \n",
       "1                         No            8               59              Low   \n",
       "2                        Yes            7               91           Medium   \n",
       "3                        Yes            8               98           Medium   \n",
       "4                        Yes            6               65           Medium   \n",
       "\n",
       "  Internet_Access  Tutoring_Sessions Family_Income Teacher_Quality  \\\n",
       "0             Yes                  0           Low          Medium   \n",
       "1             Yes                  2        Medium          Medium   \n",
       "2             Yes                  2        Medium          Medium   \n",
       "3             Yes                  1        Medium          Medium   \n",
       "4             Yes                  3        Medium            High   \n",
       "\n",
       "  School_Type Peer_Influence  Physical_Activity Learning_Disabilities  \\\n",
       "0      Public       Positive                  3                    No   \n",
       "1      Public       Negative                  4                    No   \n",
       "2      Public        Neutral                  4                    No   \n",
       "3      Public       Negative                  4                    No   \n",
       "4      Public        Neutral                  4                    No   \n",
       "\n",
       "  Parental_Education_Level Distance_from_Home  Gender  Exam_Score  \n",
       "0              High School               Near    Male          67  \n",
       "1                  College           Moderate  Female          61  \n",
       "2             Postgraduate               Near    Male          74  \n",
       "3              High School           Moderate    Male          71  \n",
       "4                  College               Near  Female          70  "
      ]
     },
     "execution_count": 16,
     "metadata": {},
     "output_type": "execute_result"
    }
   ],
   "source": [
    "#Checking first rows of the data\n",
    "print('First rows')\n",
    "students_data.head()"
   ]
  },
  {
   "cell_type": "code",
   "execution_count": 17,
   "id": "cd0a5991-6011-4d8c-85f4-da4ef0232fd9",
   "metadata": {},
   "outputs": [
    {
     "name": "stdout",
     "output_type": "stream",
     "text": [
      "Data types\n",
      "<class 'pandas.core.frame.DataFrame'>\n",
      "RangeIndex: 6607 entries, 0 to 6606\n",
      "Data columns (total 20 columns):\n",
      " #   Column                      Non-Null Count  Dtype \n",
      "---  ------                      --------------  ----- \n",
      " 0   Hours_Studied               6607 non-null   int64 \n",
      " 1   Attendance                  6607 non-null   int64 \n",
      " 2   Parental_Involvement        6607 non-null   object\n",
      " 3   Access_to_Resources         6607 non-null   object\n",
      " 4   Extracurricular_Activities  6607 non-null   object\n",
      " 5   Sleep_Hours                 6607 non-null   int64 \n",
      " 6   Previous_Scores             6607 non-null   int64 \n",
      " 7   Motivation_Level            6607 non-null   object\n",
      " 8   Internet_Access             6607 non-null   object\n",
      " 9   Tutoring_Sessions           6607 non-null   int64 \n",
      " 10  Family_Income               6607 non-null   object\n",
      " 11  Teacher_Quality             6529 non-null   object\n",
      " 12  School_Type                 6607 non-null   object\n",
      " 13  Peer_Influence              6607 non-null   object\n",
      " 14  Physical_Activity           6607 non-null   int64 \n",
      " 15  Learning_Disabilities       6607 non-null   object\n",
      " 16  Parental_Education_Level    6517 non-null   object\n",
      " 17  Distance_from_Home          6540 non-null   object\n",
      " 18  Gender                      6607 non-null   object\n",
      " 19  Exam_Score                  6607 non-null   int64 \n",
      "dtypes: int64(7), object(13)\n",
      "memory usage: 1.0+ MB\n"
     ]
    }
   ],
   "source": [
    "#Checking if the data types are correct\n",
    "print('Data types')\n",
    "students_data.info()"
   ]
  },
  {
   "cell_type": "code",
   "execution_count": 18,
   "id": "c6b6a145-1442-4b82-8310-70ca175f4a40",
   "metadata": {},
   "outputs": [
    {
     "name": "stdout",
     "output_type": "stream",
     "text": [
      "Summary of the stats\n"
     ]
    },
    {
     "data": {
      "text/html": [
       "<div>\n",
       "<style scoped>\n",
       "    .dataframe tbody tr th:only-of-type {\n",
       "        vertical-align: middle;\n",
       "    }\n",
       "\n",
       "    .dataframe tbody tr th {\n",
       "        vertical-align: top;\n",
       "    }\n",
       "\n",
       "    .dataframe thead th {\n",
       "        text-align: right;\n",
       "    }\n",
       "</style>\n",
       "<table border=\"1\" class=\"dataframe\">\n",
       "  <thead>\n",
       "    <tr style=\"text-align: right;\">\n",
       "      <th></th>\n",
       "      <th>Hours_Studied</th>\n",
       "      <th>Attendance</th>\n",
       "      <th>Sleep_Hours</th>\n",
       "      <th>Previous_Scores</th>\n",
       "      <th>Tutoring_Sessions</th>\n",
       "      <th>Physical_Activity</th>\n",
       "      <th>Exam_Score</th>\n",
       "    </tr>\n",
       "  </thead>\n",
       "  <tbody>\n",
       "    <tr>\n",
       "      <th>count</th>\n",
       "      <td>6607.000000</td>\n",
       "      <td>6607.000000</td>\n",
       "      <td>6607.00000</td>\n",
       "      <td>6607.000000</td>\n",
       "      <td>6607.000000</td>\n",
       "      <td>6607.000000</td>\n",
       "      <td>6607.000000</td>\n",
       "    </tr>\n",
       "    <tr>\n",
       "      <th>mean</th>\n",
       "      <td>19.975329</td>\n",
       "      <td>79.977448</td>\n",
       "      <td>7.02906</td>\n",
       "      <td>75.070531</td>\n",
       "      <td>1.493719</td>\n",
       "      <td>2.967610</td>\n",
       "      <td>67.235659</td>\n",
       "    </tr>\n",
       "    <tr>\n",
       "      <th>std</th>\n",
       "      <td>5.990594</td>\n",
       "      <td>11.547475</td>\n",
       "      <td>1.46812</td>\n",
       "      <td>14.399784</td>\n",
       "      <td>1.230570</td>\n",
       "      <td>1.031231</td>\n",
       "      <td>3.890456</td>\n",
       "    </tr>\n",
       "    <tr>\n",
       "      <th>min</th>\n",
       "      <td>1.000000</td>\n",
       "      <td>60.000000</td>\n",
       "      <td>4.00000</td>\n",
       "      <td>50.000000</td>\n",
       "      <td>0.000000</td>\n",
       "      <td>0.000000</td>\n",
       "      <td>55.000000</td>\n",
       "    </tr>\n",
       "    <tr>\n",
       "      <th>25%</th>\n",
       "      <td>16.000000</td>\n",
       "      <td>70.000000</td>\n",
       "      <td>6.00000</td>\n",
       "      <td>63.000000</td>\n",
       "      <td>1.000000</td>\n",
       "      <td>2.000000</td>\n",
       "      <td>65.000000</td>\n",
       "    </tr>\n",
       "    <tr>\n",
       "      <th>50%</th>\n",
       "      <td>20.000000</td>\n",
       "      <td>80.000000</td>\n",
       "      <td>7.00000</td>\n",
       "      <td>75.000000</td>\n",
       "      <td>1.000000</td>\n",
       "      <td>3.000000</td>\n",
       "      <td>67.000000</td>\n",
       "    </tr>\n",
       "    <tr>\n",
       "      <th>75%</th>\n",
       "      <td>24.000000</td>\n",
       "      <td>90.000000</td>\n",
       "      <td>8.00000</td>\n",
       "      <td>88.000000</td>\n",
       "      <td>2.000000</td>\n",
       "      <td>4.000000</td>\n",
       "      <td>69.000000</td>\n",
       "    </tr>\n",
       "    <tr>\n",
       "      <th>max</th>\n",
       "      <td>44.000000</td>\n",
       "      <td>100.000000</td>\n",
       "      <td>10.00000</td>\n",
       "      <td>100.000000</td>\n",
       "      <td>8.000000</td>\n",
       "      <td>6.000000</td>\n",
       "      <td>101.000000</td>\n",
       "    </tr>\n",
       "  </tbody>\n",
       "</table>\n",
       "</div>"
      ],
      "text/plain": [
       "       Hours_Studied   Attendance  Sleep_Hours  Previous_Scores  \\\n",
       "count    6607.000000  6607.000000   6607.00000      6607.000000   \n",
       "mean       19.975329    79.977448      7.02906        75.070531   \n",
       "std         5.990594    11.547475      1.46812        14.399784   \n",
       "min         1.000000    60.000000      4.00000        50.000000   \n",
       "25%        16.000000    70.000000      6.00000        63.000000   \n",
       "50%        20.000000    80.000000      7.00000        75.000000   \n",
       "75%        24.000000    90.000000      8.00000        88.000000   \n",
       "max        44.000000   100.000000     10.00000       100.000000   \n",
       "\n",
       "       Tutoring_Sessions  Physical_Activity   Exam_Score  \n",
       "count        6607.000000        6607.000000  6607.000000  \n",
       "mean            1.493719           2.967610    67.235659  \n",
       "std             1.230570           1.031231     3.890456  \n",
       "min             0.000000           0.000000    55.000000  \n",
       "25%             1.000000           2.000000    65.000000  \n",
       "50%             1.000000           3.000000    67.000000  \n",
       "75%             2.000000           4.000000    69.000000  \n",
       "max             8.000000           6.000000   101.000000  "
      ]
     },
     "execution_count": 18,
     "metadata": {},
     "output_type": "execute_result"
    }
   ],
   "source": [
    "#Checking the summary of the basic statistics of the data\n",
    "print('Summary of the stats')\n",
    "students_data.describe()"
   ]
  },
  {
   "cell_type": "code",
   "execution_count": 19,
   "id": "f602ceca-80ec-46b5-8487-90a5300af889",
   "metadata": {},
   "outputs": [
    {
     "data": {
      "text/plain": [
       "Hours_Studied                 0\n",
       "Attendance                    0\n",
       "Parental_Involvement          0\n",
       "Access_to_Resources           0\n",
       "Extracurricular_Activities    0\n",
       "Sleep_Hours                   0\n",
       "Previous_Scores               0\n",
       "Motivation_Level              0\n",
       "Internet_Access               0\n",
       "Tutoring_Sessions             0\n",
       "Family_Income                 0\n",
       "Teacher_Quality               0\n",
       "School_Type                   0\n",
       "Peer_Influence                0\n",
       "Physical_Activity             0\n",
       "Learning_Disabilities         0\n",
       "Parental_Education_Level      0\n",
       "Distance_from_Home            0\n",
       "Gender                        0\n",
       "Exam_Score                    0\n",
       "dtype: int64"
      ]
     },
     "execution_count": 19,
     "metadata": {},
     "output_type": "execute_result"
    }
   ],
   "source": [
    "#Performing data cleaning\n",
    "#Dropping rows with null data\n",
    "students_data = students_data.dropna(axis=0)\n",
    "students_data.isnull().sum()"
   ]
  },
  {
   "cell_type": "code",
   "execution_count": 20,
   "id": "abeb8c61-1a66-451e-8c3b-fbffc9a5f741",
   "metadata": {},
   "outputs": [
    {
     "name": "stderr",
     "output_type": "stream",
     "text": [
      "/tmp/ipykernel_4551/1482168460.py:18: UserWarning: FigureCanvasAgg is non-interactive, and thus cannot be shown\n",
      "  fig.show()\n",
      "/tmp/ipykernel_4551/1482168460.py:30: UserWarning: FigureCanvasAgg is non-interactive, and thus cannot be shown\n",
      "  fig2.show()\n"
     ]
    },
    {
     "data": {
      "image/png": "[encoded data removed]",
      "text/plain": [
       "<Figure size 640x480 with 1 Axes>"
      ]
     },
     "metadata": {},
     "output_type": "display_data"
    },
    {
     "data": {
      "image/png": "[encoded data removed]",
      "text/plain": [
       "<Figure size 1500x900 with 2 Axes>"
      ]
     },
     "metadata": {},
     "output_type": "display_data"
    },
    {
     "data": {
      "image/png": "[encoded data removed]",
      "text/plain": [
       "<Figure size 1500x900 with 2 Axes>"
      ]
     },
     "metadata": {},
     "output_type": "display_data"
    }
   ],
   "source": [
    "# Performing basic visualization to understand the data\n",
    "Study_Hours = students_data[['Hours_Studied']]\n",
    "Scores = students_data.Exam_Score\n",
    "\n",
    "plt.scatter(Study_Hours, Scores, color='pink', label='Study Hours vs Exam Scores')\n",
    "plt.show\n",
    "\n",
    "fig, ax = plt.subplots(2,1, figsize=(15, 9))\n",
    "ax[0].hist(Study_Hours)\n",
    "ax[0].set_title('Study Hours distribution')\n",
    "ax[0].set_xlabel(Study_Hours)\n",
    "ax[0].set_ylabel('Frequency')\n",
    "\n",
    "ax[1].boxplot(Study_Hours, vert=False)\n",
    "ax[1].set_xlabel('Study Hours Box plot')\n",
    "ax[1].set_ylabel('Values distribution')\n",
    "\n",
    "fig.show()\n",
    "\n",
    "fig2, ax2 = plt.subplots(2,1, figsize=(15, 9))\n",
    "ax2[0].hist(Scores)\n",
    "ax2[0].set_title('Students Scores distribution')\n",
    "ax2[0].set_xlabel(Scores)\n",
    "ax2[0].set_ylabel('Frequency')\n",
    "\n",
    "ax2[1].boxplot(Scores, vert=False)\n",
    "ax2[1].set_xlabel('Scores Box plot')\n",
    "ax2[1].set_ylabel('Values distribution')\n",
    "\n",
    "fig2.show()"
   ]
  },
  {
   "cell_type": "code",
   "execution_count": 21,
   "id": "b24fdeb9-9846-4dc4-b953-f420b3bd8171",
   "metadata": {},
   "outputs": [
    {
     "name": "stdout",
     "output_type": "stream",
     "text": [
      "      Hours_Studied  Attendance Parental_Involvement Access_to_Resources  \\\n",
      "1525             27          98                  Low              Medium   \n",
      "\n",
      "     Extracurricular_Activities  Sleep_Hours  Previous_Scores  \\\n",
      "1525                        Yes            6               93   \n",
      "\n",
      "     Motivation_Level Internet_Access  Tutoring_Sessions Family_Income  \\\n",
      "1525              Low              No                  5          High   \n",
      "\n",
      "     Teacher_Quality School_Type Peer_Influence  Physical_Activity  \\\n",
      "1525            High      Public       Positive                  3   \n",
      "\n",
      "     Learning_Disabilities Parental_Education_Level Distance_from_Home  \\\n",
      "1525                    No              High School           Moderate   \n",
      "\n",
      "      Gender  Exam_Score  \n",
      "1525  Female         101  \n"
     ]
    }
   ],
   "source": [
    "#finding scores that are above 100\n",
    "print(students_data[students_data.Exam_Score > 100])"
   ]
  },
  {
   "cell_type": "code",
   "execution_count": 22,
   "id": "9c4974cd-36ba-4a92-a465-91e251e23e0a",
   "metadata": {},
   "outputs": [],
   "source": [
    "# Dropping scores that are higher than a 100 cause they are mistakes\n",
    "students_data = students_data[students_data.Exam_Score <= 100]"
   ]
  },
  {
   "cell_type": "code",
   "execution_count": 23,
   "id": "1b188ecd-2fa3-4637-bc75-f881b6418719",
   "metadata": {},
   "outputs": [],
   "source": [
    "from sklearn.model_selection import train_test_split\n",
    "#Splitting the data to train and test sets\n",
    "X_train, X_test, y_train, y_test  = train_test_split(Study_Hours, Scores, train_size=0.8, random_state=42)"
   ]
  },
  {
   "cell_type": "code",
   "execution_count": 24,
   "id": "72ecd0a0-4255-46ff-a669-aea7b4f9a669",
   "metadata": {},
   "outputs": [],
   "source": [
    "#Training the linear regression model on the training set\n",
    "regression_model = LinearRegression()\n",
    "results = regression_model.fit(X_train, y_train)"
   ]
  },
  {
   "cell_type": "code",
   "execution_count": 25,
   "id": "f7c7d8a2-ac48-44aa-992a-d0746b9bee4d",
   "metadata": {},
   "outputs": [],
   "source": [
    "#Predicting the Exam scores for the test set\n",
    "y_pred = regression_model.predict(X_test)"
   ]
  },
  {
   "cell_type": "code",
   "execution_count": 26,
   "id": "1b29892d-8ddb-4d50-ac13-db3c69657b0f",
   "metadata": {},
   "outputs": [
    {
     "name": "stdout",
     "output_type": "stream",
     "text": [
      "Mean absolute error:  2.529242069526124\n",
      "Mean squared error:  12.351733799445533\n",
      "Root mean squared error:  3.5145033503249836\n",
      "R square score:  0.20513060832466712\n"
     ]
    }
   ],
   "source": [
    "from sklearn.metrics import mean_squared_error, mean_absolute_error, root_mean_squared_error, r2_score\n",
    "#Evaluating the model's performance\n",
    "print('Mean absolute error: ', mean_absolute_error(y_test, y_pred))\n",
    "print('Mean squared error: ', mean_squared_error(y_test, y_pred))\n",
    "print('Root mean squared error: ', root_mean_squared_error(y_test, y_pred))\n",
    "print('R square score: ', r2_score(y_test, y_pred))"
   ]
  },
  {
   "cell_type": "markdown",
   "id": "22ea64d9-bffb-4c15-8766-43a9322f78f9",
   "metadata": {},
   "source": [
    "## Evaluation Results:\n",
    "- MAE: 2.53 -> predictions are on average off by 2.53.\n",
    "- RMSE: 3.51 -> the errors are relativaly large.\n",
    "- R square: 0.20 -> the model only explains 20% of the students scores variance which suggests that study hours alone arent enough to explain the predicted variable (Exam scores) and/or the relationship between the study hours and the exam scores is not linear."
   ]
  },
  {
   "cell_type": "code",
   "execution_count": 27,
   "id": "0aa73cca-485b-40d5-b051-c6f758dbf627",
   "metadata": {},
   "outputs": [
    {
     "data": {
      "image/png": "[encoded data removed]",
      "text/plain": [
       "<Figure size 640x480 with 1 Axes>"
      ]
     },
     "metadata": {},
     "output_type": "display_data"
    }
   ],
   "source": [
    "plt.scatter(X_test, y_test, color='pink', label=\"Actual data\")\n",
    "X_test_sorted = X_test.sort_values(by='Hours_Studied')\n",
    "y_pred_sorted = regression_model.predict(X_test_sorted)\n",
    "plt.plot(X_test_sorted, y_pred_sorted, color='violet', label=\"Regression line\")\n",
    "plt.xlabel(\"Study Hours\")\n",
    "plt.ylabel(\"Students Scores\")\n",
    "plt.legend()\n",
    "plt.show()"
   ]
  },
  {
   "cell_type": "markdown",
   "id": "6a895584-be97-4a4f-a082-4cc8e3a1d9ea",
   "metadata": {},
   "source": [
    "# Ploynomial Regression"
   ]
  },
  {
   "cell_type": "code",
   "execution_count": 29,
   "id": "e392e6dc-327b-48f8-9a5a-2daf28ae251c",
   "metadata": {},
   "outputs": [],
   "source": [
    "from sklearn.preprocessing import PolynomialFeatures\n",
    "from sklearn.model_selection import train_test_split\n",
    "\n",
    "# Splitting the dataset\n",
    "X_train, X_test, y_train, y_test = train_test_split(Study_Hours, Scores, train_size=0.8, random_state=42)\n",
    "\n",
    "# Creating polynomial features from the study hours \n",
    "poly = PolynomialFeatures(degree=2)\n",
    "X_train_poly = poly.fit_transform(X_train)\n",
    "X_test_poly = poly.transform(X_test)"
   ]
  },
  {
   "cell_type": "code",
   "execution_count": 32,
   "id": "a397280b-d68f-44fe-b839-7635a1c4dbed",
   "metadata": {},
   "outputs": [],
   "source": [
    "from sklearn.linear_model import LinearRegression\n",
    "\n",
    "# Training the polynomial regression model on the training set\n",
    "poly_regression_model = LinearRegression()\n",
    "poly_result = poly_regression_model.fit(X_train_poly, y_train)"
   ]
  },
  {
   "cell_type": "code",
   "execution_count": 33,
   "id": "9eb75348-0199-4395-bcd0-3c4df1ec88a3",
   "metadata": {},
   "outputs": [],
   "source": [
    "y_pred_poly = poly_regression_model.predict(X_test_poly)"
   ]
  },
  {
   "cell_type": "code",
   "execution_count": 34,
   "id": "5dc39db3-b7a6-4ffd-bb06-d1e7049c6c0f",
   "metadata": {
    "scrolled": true
   },
   "outputs": [
    {
     "name": "stdout",
     "output_type": "stream",
     "text": [
      "Mean absolute error:  2.528560941765644\n",
      "Mean squared error:  12.352544212816404\n",
      "Root mean squared error:  3.5146186440091056\n",
      "R square score:  0.2050784559067499\n"
     ]
    }
   ],
   "source": [
    "from sklearn.metrics import mean_squared_error, mean_absolute_error, root_mean_squared_error, r2_score\n",
    "#Evaluating the polynomial regression model's performance\n",
    "print('Mean absolute error: ', mean_absolute_error(y_test, y_pred_poly))\n",
    "print('Mean squared error: ', mean_squared_error(y_test, y_pred_poly))\n",
    "print('Root mean squared error: ', root_mean_squared_error(y_test, y_pred_poly))\n",
    "print('R square score: ', r2_score(y_test, y_pred_poly))"
   ]
  },
  {
   "cell_type": "markdown",
   "id": "c965bb4d-358a-4221-8845-66280c8f149d",
   "metadata": {},
   "source": [
    "## Evaluation Results:\n",
    "- MAE, MSE, RMSE and R squared are all the same as simple linear regression, which suggests that study hours alone arent enough to explain the predicted variable (Exam scores)."
   ]
  },
  {
   "cell_type": "code",
   "execution_count": 38,
   "id": "61555501-d64f-421f-a751-db0b2ece8fa5",
   "metadata": {},
   "outputs": [
    {
     "data": {
      "image/png": "[encoded data removed]",
      "text/plain": [
       "<Figure size 640x480 with 1 Axes>"
      ]
     },
     "metadata": {},
     "output_type": "display_data"
    }
   ],
   "source": [
    "import numpy as np\n",
    "\n",
    "plt.scatter(y_test, y_pred_poly, color=\"pink\", label=\"Predictions\")\n",
    "plt.plot([y_test.min(), y_test.max()], [y_test.min(), y_test.max()], color=\"violet\", linestyle=\"--\", label=\"Perfect Fit\")\n",
    "plt.xlabel(\"Actual values\")\n",
    "plt.ylabel(\"Predicted values\")\n",
    "plt.title(\"Polynomial Regression: Actual vs Predicted\")\n",
    "plt.legend()\n",
    "plt.show()"
   ]
  },
  {
   "cell_type": "markdown",
   "id": "317cbe48-d8d0-4f2f-8a96-f6a304bd14f7",
   "metadata": {},
   "source": [
    "# Multiple Linear Regression"
   ]
  },
  {
   "cell_type": "markdown",
   "id": "2fc14678-5533-419d-a704-f95279911844",
   "metadata": {},
   "source": [
    "## Numerical data only"
   ]
  },
  {
   "cell_type": "code",
   "execution_count": 42,
   "id": "0cc596cf-0033-44e3-a5d7-7ee635ebc3df",
   "metadata": {},
   "outputs": [],
   "source": [
    "# Selecting the numerical features from the dataset as independent variables\n",
    "input_columns = students_data[[\"Hours_Studied\", \"Attendance\", \"Sleep_Hours\", \"Previous_Scores\", \"Tutoring_Sessions\", \"Physical_Activity\"]]\n",
    "Scores = students_data['Exam_Score']"
   ]
  },
  {
   "cell_type": "code",
   "execution_count": 43,
   "id": "d7bc585e-888e-4a76-81fc-eb345c91214f",
   "metadata": {},
   "outputs": [],
   "source": [
    "# Splitting the dataset\n",
    "X_train, X_test, y_train, y_test = train_test_split(input_columns, Scores, train_size=0.8, random_state=42)"
   ]
  },
  {
   "cell_type": "code",
   "execution_count": 44,
   "id": "0894bf8f-8286-448c-b736-1003d51cd4b7",
   "metadata": {},
   "outputs": [],
   "source": [
    "from sklearn.linear_model import LinearRegression\n",
    "\n",
    "# Training the multiple linear regression model on the training set\n",
    "multi_regression_model = LinearRegression()\n",
    "multi_result = multi_regression_model.fit(X_train, y_train)"
   ]
  },
  {
   "cell_type": "code",
   "execution_count": 45,
   "id": "a95e8515-55f7-4862-8a76-2ec728f7b30f",
   "metadata": {},
   "outputs": [],
   "source": [
    "# Predicting the results\n",
    "y_pred_multi = multi_regression_model.predict(X_test)"
   ]
  },
  {
   "cell_type": "code",
   "execution_count": 46,
   "id": "c8915eb4-c010-47fd-b0c6-c24fb231b36f",
   "metadata": {},
   "outputs": [
    {
     "name": "stdout",
     "output_type": "stream",
     "text": [
      "Mean absolute error:  1.3175220622324648\n",
      "Mean squared error:  6.147868237397597\n",
      "Root mean squared error:  2.479489511451419\n",
      "R square score:  0.6072553768852659\n"
     ]
    }
   ],
   "source": [
    "from sklearn.metrics import mean_squared_error, mean_absolute_error, root_mean_squared_error, r2_score\n",
    "#Evaluating the polynomial regression model's performance\n",
    "print('Mean absolute error: ', mean_absolute_error(y_test, y_pred_multi))\n",
    "print('Mean squared error: ', mean_squared_error(y_test, y_pred_multi))\n",
    "print('Root mean squared error: ', root_mean_squared_error(y_test, y_pred_multi))\n",
    "print('R square score: ', r2_score(y_test, y_pred_multi))"
   ]
  },
  {
   "cell_type": "markdown",
   "id": "cfb8509f-d784-4fc7-b050-0e80d9b5795d",
   "metadata": {},
   "source": [
    "## Evaluation Results:\n",
    "- MAE: 1.32 -> predictions are on average off by 1.32.\n",
    "- RMSE: 2.48 -> the errors are relativaly larger.\n",
    "- R square: 0.61 -> the model explains 61% of the students scores variance which shows a remarkable improvement! This suggests that adding more relevant features helped in explaining the predicted variable (Exam scores) better."
   ]
  },
  {
   "cell_type": "markdown",
   "id": "392e2399-40cf-446e-9577-ea0b5c12c605",
   "metadata": {},
   "source": [
    "## All data"
   ]
  },
  {
   "cell_type": "code",
   "execution_count": 47,
   "id": "2e1e5a5f-34f7-40ba-b187-f241847f9727",
   "metadata": {},
   "outputs": [],
   "source": [
    "# Choosing all the columns as independant variables\n",
    "input_columns = students_data.drop('Exam_Score', axis=1)\n",
    "Scores = students_data['Exam_Score']"
   ]
  },
  {
   "cell_type": "code",
   "execution_count": 49,
   "id": "f716043f-7ca9-403d-bc92-948632d32610",
   "metadata": {},
   "outputs": [],
   "source": [
    "# Separating numerical variables from non-numerical\n",
    "numerical_features = input_columns.select_dtypes(include=['int64', 'float64']).columns\n",
    "categorical_features = input_columns.select_dtypes(include=['object']).columns"
   ]
  },
  {
   "cell_type": "code",
   "execution_count": 50,
   "id": "057c944a-9bd8-40f3-9865-917d5a5a5a9f",
   "metadata": {},
   "outputs": [],
   "source": [
    "from sklearn.preprocessing import OneHotEncoder, StandardScaler\n",
    "from sklearn.compose import ColumnTransformer\n",
    "\n",
    "# Scaling numerical data and transforming categorical features to numerical for the linear regression\n",
    "preprocessor = ColumnTransformer(\n",
    "    transformers=[\n",
    "        (\"num\", StandardScaler(), numerical_features),\n",
    "        (\"cat\", OneHotEncoder(handle_unknown=\"ignore\"), categorical_features),\n",
    "    ]\n",
    ")"
   ]
  },
  {
   "cell_type": "code",
   "execution_count": 51,
   "id": "068d6512-e5ea-45af-958a-d110a690596f",
   "metadata": {},
   "outputs": [],
   "source": [
    "from sklearn.pipeline import Pipeline\n",
    "\n",
    "# Creating a pipeline for preprocessing the data and training the linear regression\n",
    "model = Pipeline(steps=[\n",
    "    (\"preprocessor\", preprocessor),\n",
    "    (\"regressor\", LinearRegression())\n",
    "])"
   ]
  },
  {
   "cell_type": "code",
   "execution_count": 52,
   "id": "470c3340-ea93-431b-b2bd-a22b0d09320f",
   "metadata": {},
   "outputs": [],
   "source": [
    "# Splitting the dataset\n",
    "X_train, X_test, y_train, y_test = train_test_split(input_columns, Scores, train_size=0.8, random_state=42)"
   ]
  },
  {
   "cell_type": "code",
   "execution_count": 53,
   "id": "68dbee6c-fbb6-4a75-aebd-bfae2634f299",
   "metadata": {},
   "outputs": [],
   "source": [
    "# Training the multiple linear regression model on the training set\n",
    "multi_result2 = model.fit(X_train, y_train)"
   ]
  },
  {
   "cell_type": "code",
   "execution_count": 54,
   "id": "2e505e0e-efa0-47aa-8eb0-5c9f26e33693",
   "metadata": {},
   "outputs": [],
   "source": [
    "# Predicting the results\n",
    "y_pred_multi2 = model.predict(X_test)"
   ]
  },
  {
   "cell_type": "code",
   "execution_count": 55,
   "id": "96d16b34-99cf-4088-bebd-d8148ceac8c3",
   "metadata": {},
   "outputs": [
    {
     "name": "stdout",
     "output_type": "stream",
     "text": [
      "Mean absolute error:  0.4784070099575348\n",
      "Mean squared error:  4.165547822323288\n",
      "Root mean squared error:  2.040967374144743\n",
      "R square score:  0.7338920669130538\n"
     ]
    }
   ],
   "source": [
    "from sklearn.metrics import mean_squared_error, mean_absolute_error, root_mean_squared_error, r2_score\n",
    "#Evaluating the polynomial regression model's performance\n",
    "print('Mean absolute error: ', mean_absolute_error(y_test, y_pred_multi2))\n",
    "print('Mean squared error: ', mean_squared_error(y_test, y_pred_multi2))\n",
    "print('Root mean squared error: ', root_mean_squared_error(y_test, y_pred_multi2))\n",
    "print('R square score: ', r2_score(y_test, y_pred_multi2))"
   ]
  },
  {
   "cell_type": "markdown",
   "id": "d94be5c2-4ca7-4717-8be3-c11a64842eca",
   "metadata": {},
   "source": [
    "## Evaluation Results:\n",
    "- MAE: 0.48 -> predictions are on average off by 0.48.\n",
    "- RMSE: 2.04 -> the errors are relativaly larger.\n",
    "- R square: 0.73 -> the model explains 73% of the students scores variance which shows a remarkable improvement! This suggests that adding more relevant features (both the numerical and categorical) helped further in explaining the predicted variable (Exam scores) better."
   ]
  }
 ],
 "metadata": {
  "kernelspec": {
   "display_name": "Python 3 (ipykernel)",
   "language": "python",
   "name": "python3"
  },
  "language_info": {
   "codemirror_mode": {
    "name": "ipython",
    "version": 3
   },
   "file_extension": ".py",
   "mimetype": "text/x-python",
   "name": "python",
   "nbconvert_exporter": "python",
   "pygments_lexer": "ipython3",
   "version": "3.10.16"
  }
 },
 "nbformat": 4,
 "nbformat_minor": 5
}
